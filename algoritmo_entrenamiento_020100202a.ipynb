{
  "nbformat": 4,
  "nbformat_minor": 0,
  "metadata": {
    "colab": {
      "provenance": []
    },
    "kernelspec": {
      "name": "python3",
      "display_name": "Python 3"
    },
    "language_info": {
      "name": "python"
    }
  },
  "cells": [
    {
      "cell_type": "markdown",
      "source": [
        "Implementación de un perceptrón simple en Python, siguiendo el algoritmo de ajuste de pesos y umbral en cada iteración."
      ],
      "metadata": {}
    },
    {
      "cell_type": "code",
      "source": [
        "import numpy as np\n",
        "\n",
        "class Perceptron:\n",
        "    def __init__(self, learning_rate=0.01, n_iters=1000):\n",
        "        # Inicializa el perceptrón con la tasa de aprendizaje y el número de iteraciones\n",
        "        self.learning_rate = learning_rate  # α en el algoritmo\n",
        "        self.n_iters = n_iters\n",
        "        self.weight = None  # Peso del perceptrón (valor decimal)\n",
        "\n",
        "    def activation_function(self, x):\n",
        "        # Función de activación escalón que retorna 1 si x >= 0, sino retorna 0\n",
        "        return 1 if x >= 0 else 0\n",
        "\n",
        "    def fit(self):\n",
        "        # Inicializar el peso con un valor real aleatorio entre -1 y +1\n",
        "        self.weight = np.random.uniform(-1.0, 1.0)\n",
        "\n",
        "        # Iterar por el número de épocas especificado\n",
        "        for iteration in range(self.n_iters):\n",
        "            # Valor deseado y umbral aleatorio en cada iteración\n",
        "            D = np.random.uniform(-1.0, 1.0)  # Valor deseado aleatorio entre -1 y 1\n",
        "            threshold = np.random.uniform(-1.0, 1.0)  # Umbral aleatorio entre -1 y 1\n",
        "\n",
        "            # Calcula la salida (y) usando la función de activación\n",
        "            y = self.activation_function(self.weight - threshold)\n",
        "\n",
        "            # Calcula el error según la ecuación D - y\n",
        "            error = D - y\n",
        "\n",
        "            # Imprimir los valores deseado, salida y error en cada iteración\n",
        "            print(f\"Iteración {iteration + 1}: Valor Deseado (D) = {D:.4f}, Umbral = {threshold:.4f}, Salida (y) = {y}, Error = {error:.4f}\")\n",
        "\n",
        "            # Ajuste del peso en función del error\n",
        "            self.weight += self.learning_rate * error\n",
        "\n",
        "    def predict(self, input_value):\n",
        "        # Predice si el input_value supera el umbral ajustado\n",
        "        y = self.activation_function(input_value * self.weight - np.random.uniform(-1.0, 1.0))  # Umbral aleatorio para predicción\n",
        "        return y\n",
        "\n",
        "# Ejemplo de uso\n",
        "if __name__ == \"__main__\":\n",
        "    # Crear una instancia del perceptrón con una tasa de aprendizaje de 0.1 y 10 iteraciones\n",
        "    perceptron = Perceptron(learning_rate=0.1, n_iters=10)\n",
        "    # Entrenar el perceptrón sin muestras, solo con iteraciones\n",
        "    perceptron.fit()\n",
        "\n",
        "    # Ejemplo de predicción\n",
        "    input_value = 0.5  # Puedes probar con distintos valores\n",
        "    prediction = perceptron.predict(input_value)\n",
        "    print(f\"Predicción para el valor de entrada {input_value}: {prediction}\")\n"
      ],
      "metadata": {},
      "execution_count": null,
      "outputs": []
    }
  ]
}
